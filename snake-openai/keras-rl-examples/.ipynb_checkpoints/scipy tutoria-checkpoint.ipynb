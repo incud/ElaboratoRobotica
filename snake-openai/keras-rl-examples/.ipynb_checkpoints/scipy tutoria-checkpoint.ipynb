{
 "cells": [
  {
   "cell_type": "code",
   "execution_count": 2,
   "metadata": {},
   "outputs": [],
   "source": [
    "import numpy as np\n",
    "from scipy.optimize import minimize"
   ]
  },
  {
   "cell_type": "code",
   "execution_count": 4,
   "metadata": {},
   "outputs": [],
   "source": [
    "def objective(x):\n",
    "    a = x[0]\n",
    "    b = x[1]\n",
    "    return a**2 + b**2\n",
    "\n",
    "def constraint_equals(x):\n",
    "    a = x[0]\n",
    "    b = x[1]\n",
    "    return 0.7 - a - b\n",
    "\n",
    "# Bounds\n",
    "b = (-1.0, 1.0)\n",
    "bounds = (b, b)\n",
    "\n",
    "# Constraints\n",
    "c1 = { 'type': 'eq', 'fun' : constraint_equals }\n",
    "constraints = [ c1 ]"
   ]
  },
  {
   "cell_type": "code",
   "execution_count": 5,
   "metadata": {},
   "outputs": [
    {
     "name": "stdout",
     "output_type": "stream",
     "text": [
      "     fun: 0.5000000000000002\n",
      "     jac: array([1.00000001, 1.00000001])\n",
      " message: 'Optimization terminated successfully.'\n",
      "    nfev: 8\n",
      "     nit: 2\n",
      "    njev: 2\n",
      "  status: 0\n",
      " success: True\n",
      "       x: array([0.5, 0.5])\n"
     ]
    }
   ],
   "source": [
    "initial_guess = [ 1.0, 1.0 ]\n",
    "solution = minimize(objective, initial_guess, method='SLSQP', bounds=bounds, constraints=constraints)\n",
    "print(solution)"
   ]
  }
 ],
 "metadata": {
  "kernelspec": {
   "display_name": "Python 3",
   "language": "python",
   "name": "python3"
  },
  "language_info": {
   "codemirror_mode": {
    "name": "ipython",
    "version": 3
   },
   "file_extension": ".py",
   "mimetype": "text/x-python",
   "name": "python",
   "nbconvert_exporter": "python",
   "pygments_lexer": "ipython3",
   "version": "3.7.4"
  }
 },
 "nbformat": 4,
 "nbformat_minor": 2
}
